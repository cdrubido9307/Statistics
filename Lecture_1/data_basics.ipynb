{
 "cells": [
  {
   "cell_type": "markdown",
   "metadata": {},
   "source": [
    "<div class=\"jumbotron jumbotron-fluid\">\n",
    "  <div class=\"container\">\n",
    "    <h1 class=\"display-4\">STOR 155</h1>\n",
    "    <p class=\"lead\">Data analysis; correlation and regression; sampling and experimental design; basic probability (random\n",
    "variables, expected values, normal and binomial distributions); hypothesis testing and confidence\n",
    "intervals for means, proportions, and regression parameters; use of spreadsheet software.</p>\n",
    "  </div>\n",
    "</div>"
   ]
  },
  {
   "cell_type": "markdown",
   "metadata": {},
   "source": [
    "<h1>Data Basics: <span class=\"badge badge-secondary\">Lecture I</span></h1>"
   ]
  },
  {
   "cell_type": "code",
   "execution_count": 4,
   "metadata": {},
   "outputs": [],
   "source": [
    "import numpy as np\n",
    "import pandas as pd\n",
    "import matplotlib.pyplot as ptl"
   ]
  },
  {
   "cell_type": "code",
   "execution_count": 5,
   "metadata": {},
   "outputs": [],
   "source": [
    "data_frame = pd.read_csv('data/data_set1.csv')"
   ]
  },
  {
   "cell_type": "code",
   "execution_count": 6,
   "metadata": {},
   "outputs": [
    {
     "name": "stdout",
     "output_type": "stream",
     "text": [
      "   Student  Year    School  Midterm1  Midterm2  Homework  Final\n",
      "0    Smith     1     A & S        78        85        88     86\n",
      "1  Johnson     2  Business        82        90        65     72\n",
      "2    Hardy     1     A & S        65        88        98     82\n",
      "3    Klein  Grad   PubHlth        85        89        93     74\n"
     ]
    }
   ],
   "source": [
    "print(data_frame)"
   ]
  },
  {
   "cell_type": "markdown",
   "metadata": {},
   "source": [
    "###### Cases:"
   ]
  },
  {
   "cell_type": "markdown",
   "metadata": {},
   "source": [
    "<ul class=\"list-group\">\n",
    "  <li class=\"list-group-item\">Smith</li>\n",
    "  <li class=\"list-group-item\">Johnson</li>\n",
    "  <li class=\"list-group-item\">Hardy</li>\n",
    "  <li class=\"list-group-item\">Klein</li>\n",
    "</ul>"
   ]
  },
  {
   "cell_type": "markdown",
   "metadata": {},
   "source": [
    "###### Variables:"
   ]
  },
  {
   "cell_type": "markdown",
   "metadata": {},
   "source": [
    "<ul class=\"list-group\">\n",
    "  <li class=\"list-group-item\">Year (Cathegoricar or Qualitative) (Ordinal)</li>\n",
    "  <li class=\"list-group-item\">School (Cathegoricar or Qualitative) (Nominal)</li>\n",
    "  <li class=\"list-group-item\">Midterm1 (Quantitative) (Discrete)</li>\n",
    "  <li class=\"list-group-item\">Midterm2 (Quantitative) (Discrete)</li>\n",
    "  <li class=\"list-group-item\">Homework (Quantitative) (Discrete)</li>\n",
    "  <li class=\"list-group-item\">Final (Quantitative) (Discrete)</li>\n",
    "</ul>"
   ]
  },
  {
   "cell_type": "markdown",
   "metadata": {},
   "source": [
    "###### Values:"
   ]
  },
  {
   "cell_type": "markdown",
   "metadata": {},
   "source": [
    "<p class=\"text-justify\">Values are outcomes of the events and are in each cell. For example Year = 1 is an outcome of Smith.</p>"
   ]
  },
  {
   "cell_type": "markdown",
   "metadata": {},
   "source": [
    "###### Bar Chart: (Categorical Varibles)"
   ]
  },
  {
   "cell_type": "code",
   "execution_count": 7,
   "metadata": {},
   "outputs": [],
   "source": [
    "bar_data_frame = pd.read_csv('data/data_set2.csv')"
   ]
  },
  {
   "cell_type": "code",
   "execution_count": 8,
   "metadata": {},
   "outputs": [
    {
     "name": "stdout",
     "output_type": "stream",
     "text": [
      "  Subjects  Teachers\n",
      "0  COMP401         4\n",
      "1  COMP410        12\n",
      "2  COMP411         3\n",
      "3  STOR435         6\n",
      "4  STOR155         9\n",
      "5  COMP455         1\n",
      "6  COMP290         2\n"
     ]
    }
   ],
   "source": [
    "print(bar_data_frame)"
   ]
  },
  {
   "cell_type": "code",
   "execution_count": 9,
   "metadata": {},
   "outputs": [
    {
     "data": {
      "text/plain": [
       "<matplotlib.axes._subplots.AxesSubplot at 0x7fe1b6f36898>"
      ]
     },
     "execution_count": 9,
     "metadata": {},
     "output_type": "execute_result"
    },
    {
     "data": {
      "image/png": "[encoded data removed]",
      "text/plain": [
       "<Figure size 432x288 with 1 Axes>"
      ]
     },
     "metadata": {
      "needs_background": "light"
     },
     "output_type": "display_data"
    }
   ],
   "source": [
    "bar_data_frame.plot.bar(x = 'Subjects', y = 'Teachers')"
   ]
  },
  {
   "cell_type": "code",
   "execution_count": 10,
   "metadata": {},
   "outputs": [
    {
     "name": "stdout",
     "output_type": "stream",
     "text": [
      "['1', '2', '3', '4', 'G']\n",
      "[13, 14, 13, 16, 4]\n"
     ]
    }
   ],
   "source": [
    "student_year_list = ['1','2','3','1','4','G','1','1','4','2','2','3','1','4','2',\n",
    "                     '2','4','G','1','2','2','1','4','4','3','4','1','2','2','3',\n",
    "                     '3','3','2','4','3','1','2','G','3','4','4','2','1','1','4',\n",
    "                     '2','1','1','3','4','4','3','4','4','3','G','2','3','3','4']\n",
    "years = []\n",
    "for year in student_year_list:\n",
    "    if(year not in years):\n",
    "        years.append(year)\n",
    "\n",
    "counts = []\n",
    "first_years = 0\n",
    "second_years = 0\n",
    "third_years = 0\n",
    "fourth_years = 0\n",
    "grad = 0\n",
    "for year in student_year_list:\n",
    "    if(year == '1'):\n",
    "        first_years = first_years + 1\n",
    "    elif(year == '2'):\n",
    "        second_years = second_years + 1\n",
    "    elif(year == '3'):\n",
    "        third_years = third_years + 1\n",
    "    elif(year == '4'):\n",
    "        fourth_years = fourth_years + 1\n",
    "    elif(year == 'G'):\n",
    "        grad = grad + 1\n",
    "for year in years:\n",
    "    if(year == '1'):\n",
    "        counts.append(first_years)\n",
    "    elif(year == '2'):\n",
    "        counts.append(second_years)\n",
    "    elif(year == '3'):\n",
    "        counts.append(third_years)\n",
    "    elif(year == '4'):\n",
    "        counts.append(fourth_years)\n",
    "    else:\n",
    "        counts.append(grad)\n",
    "        \n",
    "print(years)\n",
    "print(counts)"
   ]
  },
  {
   "cell_type": "code",
   "execution_count": 11,
   "metadata": {},
   "outputs": [],
   "source": [
    "df = pd.DataFrame({'Years': years, 'Counts': counts})"
   ]
  },
  {
   "cell_type": "code",
   "execution_count": 12,
   "metadata": {},
   "outputs": [
    {
     "name": "stdout",
     "output_type": "stream",
     "text": [
      "  Years  Counts\n",
      "0     1      13\n",
      "1     2      14\n",
      "2     3      13\n",
      "3     4      16\n",
      "4     G       4\n"
     ]
    }
   ],
   "source": [
    "print(df)"
   ]
  },
  {
   "cell_type": "code",
   "execution_count": 13,
   "metadata": {},
   "outputs": [
    {
     "data": {
      "text/plain": [
       "<matplotlib.axes._subplots.AxesSubplot at 0x7fe172df0710>"
      ]
     },
     "execution_count": 13,
     "metadata": {},
     "output_type": "execute_result"
    },
    {
     "data": {
      "image/png": "[encoded data removed]",
      "text/plain": [
       "<Figure size 432x288 with 1 Axes>"
      ]
     },
     "metadata": {
      "needs_background": "light"
     },
     "output_type": "display_data"
    }
   ],
   "source": [
    "df.plot.bar(x='Years', y='Counts', rot=0)"
   ]
  },
  {
   "cell_type": "code",
   "execution_count": 14,
   "metadata": {},
   "outputs": [
    {
     "name": "stdout",
     "output_type": "stream",
     "text": [
      "60\n"
     ]
    }
   ],
   "source": [
    "total = 0\n",
    "for i in counts:\n",
    "    total += i\n",
    "print(total)    "
   ]
  },
  {
   "cell_type": "code",
   "execution_count": 15,
   "metadata": {},
   "outputs": [
    {
     "name": "stdout",
     "output_type": "stream",
     "text": [
      "[21.67, 23.33, 21.67, 26.67, 6.67]\n"
     ]
    }
   ],
   "source": [
    "porcentage = []\n",
    "for count in counts:\n",
    "    porcentage.append(round(count/total * 100, 2))\n",
    "print(porcentage)"
   ]
  },
  {
   "cell_type": "code",
   "execution_count": 16,
   "metadata": {},
   "outputs": [
    {
     "name": "stdout",
     "output_type": "stream",
     "text": [
      "  Years  Porcentage\n",
      "0     1       21.67\n",
      "1     2       23.33\n",
      "2     3       21.67\n",
      "3     4       26.67\n",
      "4     G        6.67\n"
     ]
    }
   ],
   "source": [
    "new_df = pd.DataFrame({'Years': years, 'Porcentage': porcentage})\n",
    "print(new_df)"
   ]
  },
  {
   "cell_type": "code",
   "execution_count": 17,
   "metadata": {},
   "outputs": [
    {
     "data": {
      "text/plain": [
       "<matplotlib.axes._subplots.AxesSubplot at 0x7fe1726e75c0>"
      ]
     },
     "execution_count": 17,
     "metadata": {},
     "output_type": "execute_result"
    },
    {
     "data": {
      "image/png": "[encoded data removed]",
      "text/plain": [
       "<Figure size 432x288 with 1 Axes>"
      ]
     },
     "metadata": {
      "needs_background": "light"
     },
     "output_type": "display_data"
    }
   ],
   "source": [
    "new_df.plot.bar(x='Years', y='Porcentage', rot=0)"
   ]
  },
  {
   "cell_type": "markdown",
   "metadata": {},
   "source": [
    "###### Histograms (Quantitative variables):"
   ]
  },
  {
   "cell_type": "code",
   "execution_count": 18,
   "metadata": {},
   "outputs": [],
   "source": [
    "iq_scores = [145, 139, 126, 122, 125, 130, 96, 110, 118, 118,\n",
    "             101, 142, 134, 124, 112, 109, 134, 113, 81, 113,\n",
    "             123, 94, 100, 136, 109, 131, 117,110, 127, 124,\n",
    "             106, 124, 115, 133, 116, 102, 127, 117, 109, 137,\n",
    "             117, 90, 103, 114, 139, 101, 122, 105, 97, 89,\n",
    "             102, 108, 110, 128, 114, 112, 114, 102, 82, 101]"
   ]
  },
  {
   "cell_type": "code",
   "execution_count": 19,
   "metadata": {},
   "outputs": [],
   "source": [
    "from collections import Counter"
   ]
  },
  {
   "cell_type": "code",
   "execution_count": 20,
   "metadata": {},
   "outputs": [],
   "source": [
    "counter = Counter(iq_scores)"
   ]
  },
  {
   "cell_type": "code",
   "execution_count": 21,
   "metadata": {},
   "outputs": [
    {
     "name": "stdout",
     "output_type": "stream",
     "text": [
      "Counter({110: 3, 101: 3, 124: 3, 109: 3, 117: 3, 102: 3, 114: 3, 139: 2, 122: 2, 118: 2, 134: 2, 112: 2, 113: 2, 127: 2, 145: 1, 126: 1, 125: 1, 130: 1, 96: 1, 142: 1, 81: 1, 123: 1, 94: 1, 100: 1, 136: 1, 131: 1, 106: 1, 115: 1, 133: 1, 116: 1, 137: 1, 90: 1, 103: 1, 105: 1, 97: 1, 89: 1, 108: 1, 128: 1, 82: 1})\n"
     ]
    }
   ],
   "source": [
    "print(counter)"
   ]
  },
  {
   "cell_type": "code",
   "execution_count": 22,
   "metadata": {},
   "outputs": [],
   "source": [
    "iq_tiers = ['80-89', '90-99', '100-109', '110-119', '120-129', '130-139', '140-149']"
   ]
  },
  {
   "cell_type": "code",
   "execution_count": 23,
   "metadata": {},
   "outputs": [
    {
     "name": "stdout",
     "output_type": "stream",
     "text": [
      "[3, 4, 14, 17, 11, 9, 2]\n"
     ]
    }
   ],
   "source": [
    "tier1 = 0\n",
    "tier2 = 0\n",
    "tier3 = 0\n",
    "tier4 = 0\n",
    "tier5 = 0\n",
    "tier6 = 0\n",
    "tier7 = 0\n",
    "tiers_counts = []\n",
    "\n",
    "for iq_cat, count in counter.items():\n",
    "    if (iq_cat >= 80 and iq_cat <= 89):\n",
    "        tier1 += count\n",
    "    elif (iq_cat >= 90 and iq_cat <= 99):\n",
    "        tier2 += count\n",
    "    elif (iq_cat >= 100 and iq_cat <= 109):\n",
    "        tier3 += count\n",
    "    elif (iq_cat >= 110 and iq_cat <= 119):\n",
    "        tier4 += count\n",
    "    elif (iq_cat >= 120 and iq_cat <= 129):\n",
    "        tier5 += count\n",
    "    elif (iq_cat >= 130 and iq_cat <= 139):\n",
    "        tier6 += count\n",
    "    elif (iq_cat >= 140 and iq_cat <= 149):\n",
    "        tier7 += count\n",
    "        \n",
    "for tier in iq_tiers:\n",
    "    if (tier == '80-89'):\n",
    "        tiers_counts.append(tier1)\n",
    "    elif (tier == '90-99'):\n",
    "            tiers_counts.append(tier2)\n",
    "    elif (tier == '100-109'):\n",
    "        tiers_counts.append(tier3)\n",
    "    elif (tier == '110-119'):\n",
    "        tiers_counts.append(tier4)\n",
    "    elif (tier == '120-129'):\n",
    "        tiers_counts.append(tier5)\n",
    "    elif (tier == '130-139'):\n",
    "        tiers_counts.append(tier6)\n",
    "    elif (tier == '140-149'):\n",
    "        tiers_counts.append(tier7)\n",
    "\n",
    "print(tiers_counts)"
   ]
  },
  {
   "cell_type": "code",
   "execution_count": 24,
   "metadata": {},
   "outputs": [
    {
     "name": "stdout",
     "output_type": "stream",
     "text": [
      "  IQ-Tiers  Count\n",
      "0    80-89      3\n",
      "1    90-99      4\n",
      "2  100-109     14\n",
      "3  110-119     17\n",
      "4  120-129     11\n",
      "5  130-139      9\n",
      "6  140-149      2\n"
     ]
    }
   ],
   "source": [
    "iq_data_frame = pd.DataFrame({'IQ-Tiers': iq_tiers, 'Count': tiers_counts})\n",
    "print(iq_data_frame)"
   ]
  },
  {
   "cell_type": "code",
   "execution_count": 25,
   "metadata": {},
   "outputs": [],
   "source": [
    "iq_data = pd.DataFrame({'IQs': iq_scores})"
   ]
  },
  {
   "cell_type": "code",
   "execution_count": 26,
   "metadata": {},
   "outputs": [],
   "source": [
    "bins = [80,90,100,110,120,130,140,150]"
   ]
  },
  {
   "cell_type": "code",
   "execution_count": 27,
   "metadata": {},
   "outputs": [
    {
     "data": {
      "text/plain": [
       "(array([ 3.,  4., 14., 17., 11.,  9.,  2.]),\n",
       " array([ 80,  90, 100, 110, 120, 130, 140, 150]),\n",
       " <a list of 7 Patch objects>)"
      ]
     },
     "execution_count": 27,
     "metadata": {},
     "output_type": "execute_result"
    },
    {
     "data": {
      "image/png": "[encoded data removed]",
      "text/plain": [
       "<Figure size 432x288 with 1 Axes>"
      ]
     },
     "metadata": {
      "needs_background": "light"
     },
     "output_type": "display_data"
    }
   ],
   "source": [
    "ptl.hist(iq_data.values, bins = bins, edgecolor='k')"
   ]
  },
  {
   "cell_type": "markdown",
   "metadata": {},
   "source": [
    "###### Characteristics of a Distribution:"
   ]
  },
  {
   "cell_type": "markdown",
   "metadata": {},
   "source": [
    "<ul class=\"list-group\">\n",
    "  <li class=\"list-group-item\">Shape</li>\n",
    "  <li class=\"list-group-item\">Center</li>\n",
    "  <li class=\"list-group-item\">Spread</li>\n",
    "  <li class=\"list-group-item\">Outliers</li>\n",
    "</ul>"
   ]
  },
  {
   "cell_type": "code",
   "execution_count": null,
   "metadata": {},
   "outputs": [],
   "source": []
  }
 ],
 "metadata": {
  "kernelspec": {
   "display_name": "Python 3",
   "language": "python",
   "name": "python3"
  },
  "language_info": {
   "codemirror_mode": {
    "name": "ipython",
    "version": 3
   },
   "file_extension": ".py",
   "mimetype": "text/x-python",
   "name": "python",
   "nbconvert_exporter": "python",
   "pygments_lexer": "ipython3",
   "version": "3.6.8"
  }
 },
 "nbformat": 4,
 "nbformat_minor": 2
}
